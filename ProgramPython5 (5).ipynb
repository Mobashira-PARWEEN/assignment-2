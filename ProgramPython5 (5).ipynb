{
 "cells": [
  {
   "cell_type": "code",
   "execution_count": null,
   "id": "90964fc0-dee8-4235-8b4a-e77e65aec838",
   "metadata": {},
   "outputs": [],
   "source": [
    "fruits=\"mango\""
   ]
  },
  {
   "cell_type": "markdown",
   "id": "99087729-a58d-4770-92a5-dabae771f962",
   "metadata": {},
   "source": [
    "# str.capitalize()"
   ]
  },
  {
   "cell_type": "markdown",
   "id": "ffb2fa88-05e5-4d2d-9d36-a4773679a7d4",
   "metadata": {},
   "source": [
    "## capitalizes the first character"
   ]
  },
  {
   "cell_type": "code",
   "execution_count": 2,
   "id": "da558c33-051c-4fec-9f73-2b214b3d9ced",
   "metadata": {},
   "outputs": [
    {
     "data": {
      "text/plain": [
       "'Mango'"
      ]
     },
     "execution_count": 2,
     "metadata": {},
     "output_type": "execute_result"
    }
   ],
   "source": [
    "fruits.capitalize()"
   ]
  },
  {
   "cell_type": "markdown",
   "id": "164f95b7-98b2-47b4-adca-c312a2d9c176",
   "metadata": {},
   "source": [
    "# str.casefold()"
   ]
  },
  {
   "cell_type": "markdown",
   "id": "0dcd5227-9940-461d-bc77-053075b78dbd",
   "metadata": {},
   "source": [
    "## converts to lowercase (more aggressive than lower())"
   ]
  },
  {
   "cell_type": "code",
   "execution_count": 3,
   "id": "6cc8352e-e042-47bc-8da2-9ebb4d7a8a94",
   "metadata": {},
   "outputs": [
    {
     "data": {
      "text/plain": [
       "'mango'"
      ]
     },
     "execution_count": 3,
     "metadata": {},
     "output_type": "execute_result"
    }
   ],
   "source": [
    "fruits.casefold()"
   ]
  },
  {
   "cell_type": "markdown",
   "id": "f3be0aec-010f-4289-958d-50e343bd2f6d",
   "metadata": {},
   "source": [
    "# str.casefold()"
   ]
  },
  {
   "cell_type": "markdown",
   "id": "50cb216d-5b2a-4010-9e6a-7c1fc28cb7b8",
   "metadata": {},
   "source": [
    "## centers the string within the specified width"
   ]
  },
  {
   "cell_type": "code",
   "execution_count": 4,
   "id": "20324275-29bf-4f02-8411-9bd8cabf875e",
   "metadata": {},
   "outputs": [
    {
     "data": {
      "text/plain": [
       "'_______mango________'"
      ]
     },
     "execution_count": 4,
     "metadata": {},
     "output_type": "execute_result"
    }
   ],
   "source": [
    "fruits.center(20,\"_\")"
   ]
  },
  {
   "cell_type": "markdown",
   "id": "9fab0bbe-3927-4974-b50a-e265f038a65a",
   "metadata": {},
   "source": [
    "# str.count(sub[,startr[,end]])"
   ]
  },
  {
   "cell_type": "markdown",
   "id": "56747821-a5cd-4361-956e-e8151a892f6b",
   "metadata": {},
   "source": [
    "## Returns the number of non-overlapping occurrences of a substring"
   ]
  },
  {
   "cell_type": "code",
   "execution_count": 6,
   "id": "252753b1-35f2-45a1-b07a-fbecf26fa693",
   "metadata": {},
   "outputs": [
    {
     "data": {
      "text/plain": [
       "1"
      ]
     },
     "execution_count": 6,
     "metadata": {},
     "output_type": "execute_result"
    }
   ],
   "source": [
    "fruits.count(\"a\")"
   ]
  },
  {
   "cell_type": "markdown",
   "id": "11a21280-003a-48f2-ad37-e62ec5855460",
   "metadata": {},
   "source": [
    "# str.encode(encoding=\"utf-8\",errors=\"strict\")"
   ]
  },
  {
   "cell_type": "markdown",
   "id": "35c9835f-354f-4ea3-ac2d-77a195bdb2a1",
   "metadata": {},
   "source": [
    "## Return the encoded version of the string"
   ]
  },
  {
   "cell_type": "code",
   "execution_count": 8,
   "id": "78489649-3951-4f5d-9abf-76508e6cece9",
   "metadata": {},
   "outputs": [
    {
     "data": {
      "text/plain": [
       "b'mango'"
      ]
     },
     "execution_count": 8,
     "metadata": {},
     "output_type": "execute_result"
    }
   ],
   "source": [
    "fruits.encode(\"utf-8\")"
   ]
  },
  {
   "cell_type": "markdown",
   "id": "03b5928e-5c4b-43ad-bfbf-6f00c09c7c45",
   "metadata": {},
   "source": [
    "# str.endswith(suffix[,start[,end]])"
   ]
  },
  {
   "cell_type": "markdown",
   "id": "c6345815-05dc-482c-aaf9-9efc255af3ff",
   "metadata": {},
   "source": [
    "## Return True if the string ends with the specified suffix"
   ]
  },
  {
   "cell_type": "code",
   "execution_count": 9,
   "id": "ad620202-97f1-40af-b835-65bb607eed80",
   "metadata": {},
   "outputs": [
    {
     "data": {
      "text/plain": [
       "True"
      ]
     },
     "execution_count": 9,
     "metadata": {},
     "output_type": "execute_result"
    }
   ],
   "source": [
    "fruits.endswith(\"o\")"
   ]
  },
  {
   "cell_type": "code",
   "execution_count": 10,
   "id": "83b031d6-ca71-4fd7-b910-95836b3077be",
   "metadata": {},
   "outputs": [],
   "source": [
    "string=\"shyam\""
   ]
  },
  {
   "cell_type": "markdown",
   "id": "aa5f01ce-aedc-42cb-b0a5-986a164a512b",
   "metadata": {},
   "source": [
    "# str.expandtabs(tabsize=8)"
   ]
  },
  {
   "cell_type": "markdown",
   "id": "31bf01bc-6725-4789-b545-9344e83cee74",
   "metadata": {},
   "source": [
    "## Replaces tabs with spaces"
   ]
  },
  {
   "cell_type": "code",
   "execution_count": 15,
   "id": "ed240877-750b-4e76-acba-65fe069f3750",
   "metadata": {},
   "outputs": [
    {
     "data": {
      "text/plain": [
       "'this\\\\is\\\\mobile,phone'"
      ]
     },
     "execution_count": 15,
     "metadata": {},
     "output_type": "execute_result"
    }
   ],
   "source": [
    "string=\"this\\is\\mobile,phone\"\n",
    "string.expandtabs()"
   ]
  },
  {
   "cell_type": "markdown",
   "id": "b5351646-ae8d-4255-85bc-0457ae6a8aef",
   "metadata": {},
   "source": [
    "# str.find(sub[,start[,end]])"
   ]
  },
  {
   "cell_type": "markdown",
   "id": "32823266-7b34-49b7-bd6e-d5ad058f665d",
   "metadata": {},
   "source": [
    "## Returns the lowest index of the substring; returns-1 if not found."
   ]
  },
  {
   "cell_type": "code",
   "execution_count": 16,
   "id": "84101cee-3b66-416f-ab65-1b8859a845b0",
   "metadata": {},
   "outputs": [
    {
     "data": {
      "text/plain": [
       "0"
      ]
     },
     "execution_count": 16,
     "metadata": {},
     "output_type": "execute_result"
    }
   ],
   "source": [
    "string=\"rasgullah\"\n",
    "string.find(\"ras\")"
   ]
  },
  {
   "cell_type": "markdown",
   "id": "5ae4bfd2-6f27-4b2c-91bf-3a34dfde1d93",
   "metadata": {},
   "source": [
    "# str.format(*args,**kwargs)"
   ]
  },
  {
   "cell_type": "markdown",
   "id": "b7954b61-ed20-493f-8c77-2124407a4a2f",
   "metadata": {},
   "source": [
    "## Formats string using the special arguments."
   ]
  },
  {
   "cell_type": "markdown",
   "id": "04eca28b-d574-46b7-88d2-d45066d673fc",
   "metadata": {},
   "source": [
    "### positional arguments"
   ]
  },
  {
   "cell_type": "code",
   "execution_count": 17,
   "id": "72616bc1-c522-4297-9d47-265e8195760f",
   "metadata": {},
   "outputs": [
    {
     "name": "stdout",
     "output_type": "stream",
     "text": [
      "my name is Abhishek,age is 19\n"
     ]
    }
   ],
   "source": [
    "name=\"Abhishek\"\n",
    "age=19\n",
    "print_positional=\"my name is {},age is {}\".format(name,age)\n",
    "print(print_positional)"
   ]
  },
  {
   "cell_type": "markdown",
   "id": "f394b45c-fac4-456e-a5c2-1b879310c6f7",
   "metadata": {},
   "source": [
    "#### keywords arguments"
   ]
  },
  {
   "cell_type": "code",
   "execution_count": 19,
   "id": "2849da16-1824-4515-9bf2-b16f3131c8d7",
   "metadata": {},
   "outputs": [
    {
     "name": "stdout",
     "output_type": "stream",
     "text": [
      "my name is aman,age is 19\n"
     ]
    }
   ],
   "source": [
    "print_keywords_arguments=\"my name is {name},age is {age}\".format(name=\"aman\",age=19)\n",
    "print(print_keywords_arguments)"
   ]
  },
  {
   "cell_type": "markdown",
   "id": "5f1e92df-53a0-499a-8317-7a038ce51e89",
   "metadata": {},
   "source": [
    "# str.format_map(mapping)"
   ]
  },
  {
   "cell_type": "markdown",
   "id": "978c8ee5-d6cd-42f9-86f3-1d09a0665fde",
   "metadata": {},
   "source": [
    "## formats string using a mapping"
   ]
  },
  {
   "cell_type": "code",
   "execution_count": 26,
   "id": "e0d73aa9-ab5b-43d7-b6f5-df682c82a1b9",
   "metadata": {},
   "outputs": [
    {
     "name": "stdout",
     "output_type": "stream",
     "text": [
      "i am aman,and i am 23 old\n"
     ]
    }
   ],
   "source": [
    "data={'name':'aman','age':'23'}\n",
    "print_string_format=\"i am {name},and i am {age} old\".format(**data)\n",
    "print(print_string_format)"
   ]
  },
  {
   "cell_type": "markdown",
   "id": "1aaea064-4cbd-4540-b49a-ed4101b87a59",
   "metadata": {},
   "source": [
    "# str.index(sub[,start[,end]])"
   ]
  },
  {
   "cell_type": "markdown",
   "id": "f1cad3a0-9554-49e3-8255-befd475dca9f",
   "metadata": {},
   "source": [
    "## Like find () but raises ValuError if not found"
   ]
  },
  {
   "cell_type": "code",
   "execution_count": 31,
   "id": "03877c24-1079-432f-a84c-0b4bda5b180d",
   "metadata": {},
   "outputs": [
    {
     "name": "stdout",
     "output_type": "stream",
     "text": [
      "0\n"
     ]
    }
   ],
   "source": [
    "string=\"this is a world\"\n",
    "text=string.index(\"this\")\n",
    "print(text)"
   ]
  },
  {
   "cell_type": "markdown",
   "id": "4857b704-57c3-4a84-b304-55c2aea2f3a3",
   "metadata": {},
   "source": [
    "# str.isalnum()"
   ]
  },
  {
   "cell_type": "markdown",
   "id": "ac76b8cb-d98d-4ec7-9596-ca4b43c471a8",
   "metadata": {},
   "source": [
    "## Returns True if all characters are aplhanumeric "
   ]
  },
  {
   "cell_type": "code",
   "execution_count": 33,
   "id": "a87e65c4-55f2-4324-8659-2d0d1b72f6c5",
   "metadata": {},
   "outputs": [
    {
     "data": {
      "text/plain": [
       "False"
      ]
     },
     "execution_count": 33,
     "metadata": {},
     "output_type": "execute_result"
    }
   ],
   "source": [
    "string=\"python23\"\n",
    "string.isalnum()"
   ]
  },
  {
   "cell_type": "code",
   "execution_count": 39,
   "id": "06af34c5-8c6d-47eb-9452-288ff5fd9060",
   "metadata": {},
   "outputs": [
    {
     "data": {
      "text/plain": [
       "True"
      ]
     },
     "execution_count": 39,
     "metadata": {},
     "output_type": "execute_result"
    }
   ],
   "source": [
    "string=\"elephant\"\n",
    "string.isalpha()"
   ]
  },
  {
   "cell_type": "markdown",
   "id": "36ddfe87-823b-45f7-81f5-20c7d563bc63",
   "metadata": {},
   "source": [
    "# str.isascii()"
   ]
  },
  {
   "cell_type": "markdown",
   "id": "df47219a-bacf-4428-9d99-9274249f8125",
   "metadata": {},
   "source": [
    "## Returns True if all characters are ASCII."
   ]
  },
  {
   "cell_type": "code",
   "execution_count": 41,
   "id": "1e601e35-95fe-4d91-bfb8-48f11ce61f00",
   "metadata": {},
   "outputs": [
    {
     "data": {
      "text/plain": [
       "True"
      ]
     },
     "execution_count": 41,
     "metadata": {},
     "output_type": "execute_result"
    }
   ],
   "source": [
    "string=\"abhishe345\"\n",
    "string.isascii()"
   ]
  },
  {
   "cell_type": "markdown",
   "id": "d0603d50-553c-423e-baf5-e621946a1481",
   "metadata": {},
   "source": [
    "# str.isdecimal()"
   ]
  },
  {
   "cell_type": "markdown",
   "id": "9cfbfc4d-6552-43d6-9a6b-5130e7a4a220",
   "metadata": {},
   "source": [
    "## Returns true if all character are decimal characters"
   ]
  },
  {
   "cell_type": "code",
   "execution_count": 43,
   "id": "4b54df78-eea6-49ef-8350-7eb3cfc19f9c",
   "metadata": {},
   "outputs": [
    {
     "data": {
      "text/plain": [
       "True"
      ]
     },
     "execution_count": 43,
     "metadata": {},
     "output_type": "execute_result"
    }
   ],
   "source": [
    "string=\"23456\"\n",
    "string.isdecimal()"
   ]
  },
  {
   "cell_type": "markdown",
   "id": "652cf90d-a063-4224-bec2-5c7170091bed",
   "metadata": {},
   "source": [
    "# str.isdigit()"
   ]
  },
  {
   "cell_type": "markdown",
   "id": "914a14c8-5b70-40d3-9317-e8d0b4ccd6fd",
   "metadata": {},
   "source": [
    "## Returns True if all characters are digits"
   ]
  },
  {
   "cell_type": "code",
   "execution_count": 47,
   "id": "96c17713-ae5d-4a7b-98a2-8fc45a66532a",
   "metadata": {},
   "outputs": [
    {
     "data": {
      "text/plain": [
       "False"
      ]
     },
     "execution_count": 47,
     "metadata": {},
     "output_type": "execute_result"
    }
   ],
   "source": [
    "string=\"345\"\n",
    "string.isdigit()"
   ]
  },
  {
   "cell_type": "markdown",
   "id": "23136dc9-85b3-494e-9b80-041b7da00c33",
   "metadata": {},
   "source": [
    "# str.isidentifier()"
   ]
  },
  {
   "cell_type": "markdown",
   "id": "f0db362a-2ef5-4762-8b86-cc7ae5011fc5",
   "metadata": {},
   "source": [
    "## Returns True if string is a valid identifier"
   ]
  },
  {
   "cell_type": "code",
   "execution_count": 50,
   "id": "342d6707-d815-4614-b777-f706af34f2e0",
   "metadata": {},
   "outputs": [
    {
     "data": {
      "text/plain": [
       "False"
      ]
     },
     "execution_count": 50,
     "metadata": {},
     "output_type": "execute_result"
    }
   ],
   "source": [
    "string=\"identifier\"\n",
    "string.isidentifier()"
   ]
  },
  {
   "cell_type": "markdown",
   "id": "f1240e61-dd9f-49eb-b045-1d089dd627d5",
   "metadata": {},
   "source": [
    "# str.islower()"
   ]
  },
  {
   "cell_type": "markdown",
   "id": "08434cf1-0ce6-4737-aa56-3850b10b18b9",
   "metadata": {},
   "source": [
    "## Returns True if all characters are lowercase"
   ]
  },
  {
   "cell_type": "code",
   "execution_count": 51,
   "id": "2b7fe421-7179-4257-aef7-8994ab6a5970",
   "metadata": {},
   "outputs": [
    {
     "data": {
      "text/plain": [
       "False"
      ]
     },
     "execution_count": 51,
     "metadata": {},
     "output_type": "execute_result"
    }
   ],
   "source": [
    "string=\"Python\"\n",
    "string.islower()"
   ]
  },
  {
   "cell_type": "markdown",
   "id": "1ce3fc78-f985-4fbd-a18c-4234ea9913b6",
   "metadata": {},
   "source": [
    "# str.isnumeric()"
   ]
  },
  {
   "cell_type": "markdown",
   "id": "c0f6883d-0aa8-4834-ad7b-6f1e2e7fcd2f",
   "metadata": {},
   "source": [
    "## Return True if all characters are numeric"
   ]
  },
  {
   "cell_type": "code",
   "execution_count": 53,
   "id": "affe8ea8-56a0-48a9-b164-384147057c58",
   "metadata": {},
   "outputs": [
    {
     "data": {
      "text/plain": [
       "False"
      ]
     },
     "execution_count": 53,
     "metadata": {},
     "output_type": "execute_result"
    }
   ],
   "source": [
    "string=\"23434adsds5\"\n",
    "string.isnumeric()"
   ]
  },
  {
   "cell_type": "markdown",
   "id": "f3cc73ce-75a6-416a-a170-e5d958d37b33",
   "metadata": {},
   "source": [
    "# str.isprintable()"
   ]
  },
  {
   "cell_type": "markdown",
   "id": "c3e95b9b-a36f-478d-b82a-d6b27621d052",
   "metadata": {},
   "source": [
    "## Returns True if  all characters are printable"
   ]
  },
  {
   "cell_type": "code",
   "execution_count": 54,
   "id": "64433954-fb8b-474c-81c8-b226660f7146",
   "metadata": {},
   "outputs": [
    {
     "data": {
      "text/plain": [
       "True"
      ]
     },
     "execution_count": 54,
     "metadata": {},
     "output_type": "execute_result"
    }
   ],
   "source": [
    "string=\"12434aman\"\n",
    "string.isprintable()"
   ]
  },
  {
   "cell_type": "markdown",
   "id": "70571b9a-397a-4d35-9f44-b0b5fe1ef38e",
   "metadata": {},
   "source": [
    "# str.isspace()"
   ]
  },
  {
   "cell_type": "markdown",
   "id": "bbea6cbf-6506-4e53-ad38-e5344927fc68",
   "metadata": {},
   "source": [
    "## Returns True if all characters are whitespace"
   ]
  },
  {
   "cell_type": "code",
   "execution_count": 59,
   "id": "92684c67-7447-416e-9c5e-71c97a6be800",
   "metadata": {},
   "outputs": [
    {
     "data": {
      "text/plain": [
       "False"
      ]
     },
     "execution_count": 59,
     "metadata": {},
     "output_type": "execute_result"
    }
   ],
   "source": [
    "string=\" \\n \"\n",
    "string.isspace()"
   ]
  },
  {
   "cell_type": "markdown",
   "id": "3cd4ab34-e718-4831-a8c4-d9dac0855cc8",
   "metadata": {},
   "source": [
    "# str.istitle()"
   ]
  },
  {
   "cell_type": "markdown",
   "id": "f2d292c5-87d1-487c-a382-47f2d2c96984",
   "metadata": {},
   "source": [
    "## Returns True if the string is titlecased."
   ]
  },
  {
   "cell_type": "code",
   "execution_count": 5,
   "id": "7b4713db-61c1-4133-a4dc-bd0077d14003",
   "metadata": {},
   "outputs": [
    {
     "data": {
      "text/plain": [
       "'Titl456E'"
      ]
     },
     "execution_count": 5,
     "metadata": {},
     "output_type": "execute_result"
    }
   ],
   "source": [
    "string=\"Titl456e\"\n",
    "string.title()"
   ]
  },
  {
   "cell_type": "markdown",
   "id": "21ca4d29-4502-4356-a64a-a0bcd818c73d",
   "metadata": {},
   "source": [
    "## str.isupper()"
   ]
  },
  {
   "cell_type": "markdown",
   "id": "0320b95a-5212-4be9-b2fa-0619c420a152",
   "metadata": {},
   "source": [
    "### Returns True if all character are uppercase"
   ]
  },
  {
   "cell_type": "code",
   "execution_count": 7,
   "id": "e3d6eb4f-8c5d-48ea-ba8c-fa5ad933d3fa",
   "metadata": {},
   "outputs": [
    {
     "data": {
      "text/plain": [
       "False"
      ]
     },
     "execution_count": 7,
     "metadata": {},
     "output_type": "execute_result"
    }
   ],
   "source": [
    "string=\"Python\"\n",
    "string.isupper()"
   ]
  },
  {
   "cell_type": "markdown",
   "id": "dea16d73-3df3-4a7d-8b6f-8e5b9a79bcdd",
   "metadata": {},
   "source": [
    "# str.join(iterable)"
   ]
  },
  {
   "cell_type": "markdown",
   "id": "f30bff35-9ffc-4066-a358-66c5e65fad0f",
   "metadata": {},
   "source": [
    "## Joins elements of an iterable with the string as a separator"
   ]
  },
  {
   "cell_type": "code",
   "execution_count": 9,
   "id": "2d045501-5ff0-4d29-9b2b-ca8c67cf4036",
   "metadata": {},
   "outputs": [
    {
     "data": {
      "text/plain": [
       "'Abhishek anand suraj'"
      ]
     },
     "execution_count": 9,
     "metadata": {},
     "output_type": "execute_result"
    }
   ],
   "source": [
    "tuple=(\"Abhishek\",\"anand\",\"suraj\")\n",
    "\" \".join(tuple)"
   ]
  },
  {
   "cell_type": "markdown",
   "id": "ad668ece-5906-4335-9444-950571e4ea4c",
   "metadata": {},
   "source": [
    "# str.ljust(width[,fillchar])"
   ]
  },
  {
   "cell_type": "markdown",
   "id": "e38dc464-b469-4b26-a135-3102097e3502",
   "metadata": {},
   "source": [
    "## Joins elements of an iterable with the string as a separator"
   ]
  },
  {
   "cell_type": "code",
   "execution_count": 11,
   "id": "74475a64-08c4-4f61-9326-fbe24507316a",
   "metadata": {},
   "outputs": [
    {
     "data": {
      "text/plain": [
       "'left--------------------------'"
      ]
     },
     "execution_count": 11,
     "metadata": {},
     "output_type": "execute_result"
    }
   ],
   "source": [
    "string=\"left\"\n",
    "string.ljust(30,\"-\")"
   ]
  },
  {
   "cell_type": "markdown",
   "id": "b87d1aba-ace9-4649-aefa-9542fb585bc0",
   "metadata": {},
   "source": [
    "# str.lower()"
   ]
  },
  {
   "cell_type": "markdown",
   "id": "fc835b81-135b-4e36-873c-206e0436e477",
   "metadata": {},
   "source": [
    "## Converts to lowercase()"
   ]
  },
  {
   "cell_type": "code",
   "execution_count": 12,
   "id": "97e7fae9-f299-40e0-a05b-361e1cd03a48",
   "metadata": {},
   "outputs": [
    {
     "data": {
      "text/plain": [
       "'python'"
      ]
     },
     "execution_count": 12,
     "metadata": {},
     "output_type": "execute_result"
    }
   ],
   "source": [
    "string=\"PYTHON\"\n",
    "string.lower()"
   ]
  },
  {
   "cell_type": "markdown",
   "id": "ebb71718-6ad3-41b3-aeed-4da6531cc62c",
   "metadata": {},
   "source": [
    "# str.lstrip([chars])"
   ]
  },
  {
   "cell_type": "markdown",
   "id": "77fed151-9b5f-48c3-9979-8d5fc9f6af80",
   "metadata": {},
   "source": [
    "## Removes leading characters (default: whitespace)"
   ]
  },
  {
   "cell_type": "code",
   "execution_count": 22,
   "id": "eff1211f-450c-47d1-bee4-9c36e3a961ed",
   "metadata": {},
   "outputs": [
    {
     "name": "stdout",
     "output_type": "stream",
     "text": [
      "'the is a strip'\n"
     ]
    }
   ],
   "source": [
    "str=\"the is a strip\"\n",
    "cleaned_text=str.lstrip('is')\n",
    "print(f\"'{cleaned_text}'\")"
   ]
  },
  {
   "cell_type": "markdown",
   "id": "502361ef-bd0d-4c81-87d0-9acca37b7525",
   "metadata": {},
   "source": [
    "# str.maketrans(x,y=None,z=None)"
   ]
  },
  {
   "cell_type": "markdown",
   "id": "08879bea-7194-49b5-8107-1e115a66d0a0",
   "metadata": {},
   "source": [
    "## Returns a transiation table"
   ]
  },
  {
   "cell_type": "code",
   "execution_count": 26,
   "id": "befa4fa3-b870-46a3-9223-46b3c7bd3a80",
   "metadata": {},
   "outputs": [
    {
     "name": "stdout",
     "output_type": "stream",
     "text": [
      "133de\n"
     ]
    }
   ],
   "source": [
    "trans_table=str.maketrans(\"abc\",\"133\")\n",
    "text=\"abcde\"\n",
    "translated_text=text.translate(trans_table)\n",
    "print(translated_text)"
   ]
  },
  {
   "cell_type": "markdown",
   "id": "9c5c5bae-042a-4e11-be9a-76b835188937",
   "metadata": {},
   "source": [
    "# str.partition(sep)"
   ]
  },
  {
   "cell_type": "markdown",
   "id": "245bb157-2ac7-4d00-8266-1dfd36fbae24",
   "metadata": {},
   "source": [
    "## Splits the string at the first occurrence of sep"
   ]
  },
  {
   "cell_type": "code",
   "execution_count": 30,
   "id": "e7c363d5-b29c-4e0a-9727-a645408d39d8",
   "metadata": {},
   "outputs": [
    {
     "data": {
      "text/plain": [
       "('', 'pyt', 'hon')"
      ]
     },
     "execution_count": 30,
     "metadata": {},
     "output_type": "execute_result"
    }
   ],
   "source": [
    "string=\"python\"\n",
    "string.partition(\"pyt\")"
   ]
  },
  {
   "cell_type": "markdown",
   "id": "ac943cc9-e52c-4351-a906-8defc0e80a40",
   "metadata": {},
   "source": [
    "# str.removeprefix(prefix)"
   ]
  },
  {
   "cell_type": "markdown",
   "id": "b24fd3db-7835-40b2-95f5-d3669287e344",
   "metadata": {},
   "source": [
    "## Removes the specified prefix if present"
   ]
  },
  {
   "cell_type": "code",
   "execution_count": 32,
   "id": "fdde58c3-c3fa-446f-a211-9cb1df476960",
   "metadata": {},
   "outputs": [
    {
     "data": {
      "text/plain": [
       "'stances'"
      ]
     },
     "execution_count": 32,
     "metadata": {},
     "output_type": "execute_result"
    }
   ],
   "source": [
    "str=\"circum stances\"\n",
    "str.removeprefix(\"circum\")"
   ]
  },
  {
   "cell_type": "markdown",
   "id": "bbf34696-2bc9-42a0-861c-326983354a63",
   "metadata": {},
   "source": [
    "# str.removesuffix(suffix)"
   ]
  },
  {
   "cell_type": "markdown",
   "id": "74b38154-1ed4-40bd-8140-cf63a7ebf23d",
   "metadata": {},
   "source": [
    "## Removes the specified suffix if present"
   ]
  },
  {
   "cell_type": "code",
   "execution_count": 35,
   "id": "37c0c338-9dbe-4a31-8692-ba437df3aef5",
   "metadata": {},
   "outputs": [
    {
     "data": {
      "text/plain": [
       "'circum'"
      ]
     },
     "execution_count": 35,
     "metadata": {},
     "output_type": "execute_result"
    }
   ],
   "source": [
    "str.removesuffix(\"stances\")"
   ]
  },
  {
   "cell_type": "markdown",
   "id": "4311de91-c938-41b9-bec8-5f02409d046d",
   "metadata": {},
   "source": [
    "# str.replace(old,new[,count])"
   ]
  },
  {
   "cell_type": "markdown",
   "id": "73f77fea-07c2-473b-8ebd-0f0ea7fbb1af",
   "metadata": {},
   "source": [
    "## Returns a copy with all occurences of a substring replaced"
   ]
  },
  {
   "cell_type": "code",
   "execution_count": 36,
   "id": "467491d9-c4ed-4ac8-bca8-1b8760a62705",
   "metadata": {},
   "outputs": [
    {
     "data": {
      "text/plain": [
       "'itishstances'"
      ]
     },
     "execution_count": 36,
     "metadata": {},
     "output_type": "execute_result"
    }
   ],
   "source": [
    "str.replace(\"circum\",\"itish\")"
   ]
  },
  {
   "cell_type": "markdown",
   "id": "947b4395-e0c9-472e-9af7-a944ad51742f",
   "metadata": {},
   "source": [
    "# str.rfind()"
   ]
  },
  {
   "cell_type": "markdown",
   "id": "2b40ccba-d73a-4d55-8088-7ac008fa019d",
   "metadata": {},
   "source": [
    "## Returns the highest index of the string."
   ]
  },
  {
   "cell_type": "code",
   "execution_count": 39,
   "id": "b726a13d-7595-4611-aeae-b33c09f327f9",
   "metadata": {},
   "outputs": [
    {
     "data": {
      "text/plain": [
       "10"
      ]
     },
     "execution_count": 39,
     "metadata": {},
     "output_type": "execute_result"
    }
   ],
   "source": [
    "str.rfind(\"c\")"
   ]
  },
  {
   "cell_type": "markdown",
   "id": "08ea9da9-e0d5-4d00-a355-c07e95a48067",
   "metadata": {},
   "source": [
    "# str.rjust(width[,fillchar])"
   ]
  },
  {
   "cell_type": "markdown",
   "id": "a0350b53-304d-4f22-8c8e-21be16b1c8db",
   "metadata": {},
   "source": [
    "## Right-justifies the string"
   ]
  },
  {
   "cell_type": "code",
   "execution_count": 43,
   "id": "f8fcb6ce-0065-408b-a1f6-47f5da2f6627",
   "metadata": {},
   "outputs": [
    {
     "data": {
      "text/plain": [
       "'+++++++++++++++++++++circumstances'"
      ]
     },
     "execution_count": 43,
     "metadata": {},
     "output_type": "execute_result"
    }
   ],
   "source": [
    "str.rjust(34,\"+\")"
   ]
  },
  {
   "cell_type": "markdown",
   "id": "6545cfba-5c0e-424c-9f9a-1b76f0bf7d47",
   "metadata": {},
   "source": [
    "# str.rsplit()"
   ]
  },
  {
   "cell_type": "markdown",
   "id": "588af757-c425-4583-a830-867f5136e13f",
   "metadata": {},
   "source": [
    "## Splits the string from the rights."
   ]
  },
  {
   "cell_type": "code",
   "execution_count": 46,
   "id": "213a30cf-3013-4573-b510-139b75b35146",
   "metadata": {},
   "outputs": [
    {
     "data": {
      "text/plain": [
       "['circumstances']"
      ]
     },
     "execution_count": 46,
     "metadata": {},
     "output_type": "execute_result"
    }
   ],
   "source": [
    "str.rsplit()"
   ]
  },
  {
   "cell_type": "code",
   "execution_count": 48,
   "id": "62bc5dc8-8b63-4845-b30e-431bfbc19486",
   "metadata": {},
   "outputs": [
    {
     "data": {
      "text/plain": [
       "'circumstances'"
      ]
     },
     "execution_count": 48,
     "metadata": {},
     "output_type": "execute_result"
    }
   ],
   "source": [
    "str.rstrip()"
   ]
  },
  {
   "cell_type": "markdown",
   "id": "22d45968-1bcb-47c6-8c4c-74a4c828c612",
   "metadata": {},
   "source": [
    "# str.splitlines()"
   ]
  },
  {
   "cell_type": "markdown",
   "id": "fed128c0-c033-45c5-8232-683a395070a7",
   "metadata": {},
   "source": [
    "## Splits at line breaks"
   ]
  },
  {
   "cell_type": "code",
   "execution_count": 50,
   "id": "f4826077-618d-41e4-b176-fb35ec513ff1",
   "metadata": {},
   "outputs": [
    {
     "data": {
      "text/plain": [
       "['circumstances']"
      ]
     },
     "execution_count": 50,
     "metadata": {},
     "output_type": "execute_result"
    }
   ],
   "source": [
    "str.splitlines()"
   ]
  },
  {
   "cell_type": "markdown",
   "id": "9278758c-bcb4-4421-9a2c-1a56a10362e1",
   "metadata": {},
   "source": [
    "# str.startswith()"
   ]
  },
  {
   "cell_type": "markdown",
   "id": "61d6b2d6-3d3e-45bd-9dd3-236bfeb4066e",
   "metadata": {},
   "source": [
    "## Returns True if the string starts with the prefix1`"
   ]
  },
  {
   "cell_type": "code",
   "execution_count": 52,
   "id": "5af9eb93-5a33-46f5-8c5e-69c5897c33dd",
   "metadata": {},
   "outputs": [
    {
     "data": {
      "text/plain": [
       "True"
      ]
     },
     "execution_count": 52,
     "metadata": {},
     "output_type": "execute_result"
    }
   ],
   "source": [
    "str.startswith(\"circum\")"
   ]
  },
  {
   "cell_type": "markdown",
   "id": "d9031766-a11b-4df9-8821-6ab130ed3c69",
   "metadata": {},
   "source": [
    "# str.strip()"
   ]
  },
  {
   "cell_type": "markdown",
   "id": "f07ee947-9790-4f2b-a37e-1b18722cd41f",
   "metadata": {},
   "source": [
    "## Removes leading and trailing characters."
   ]
  },
  {
   "cell_type": "code",
   "execution_count": 53,
   "id": "67470b7e-abcb-442f-8683-fa412b0717a2",
   "metadata": {},
   "outputs": [
    {
     "data": {
      "text/plain": [
       "'circumstances'"
      ]
     },
     "execution_count": 53,
     "metadata": {},
     "output_type": "execute_result"
    }
   ],
   "source": [
    "str.strip()"
   ]
  },
  {
   "cell_type": "markdown",
   "id": "45b6508c-f49d-47a5-a67f-57da6975ca8f",
   "metadata": {},
   "source": [
    "# str.swapcase()"
   ]
  },
  {
   "cell_type": "markdown",
   "id": "f4e07548-3032-4d33-934b-1333eed688a2",
   "metadata": {},
   "source": [
    "# Swaps case of all characters"
   ]
  },
  {
   "cell_type": "code",
   "execution_count": 54,
   "id": "7ac8514c-7639-498b-859c-cc027a1d6e5a",
   "metadata": {},
   "outputs": [
    {
     "data": {
      "text/plain": [
       "'CIRCUMSTANCES'"
      ]
     },
     "execution_count": 54,
     "metadata": {},
     "output_type": "execute_result"
    }
   ],
   "source": [
    "str.swapcase()"
   ]
  },
  {
   "cell_type": "markdown",
   "id": "5b2c0474-33eb-42fc-b7f5-37635351f6e1",
   "metadata": {},
   "source": [
    "# str.title()"
   ]
  },
  {
   "cell_type": "markdown",
   "id": "3c3c6b01-6a82-4768-af2a-3d42ce1d4367",
   "metadata": {},
   "source": [
    "# Returns a titlecased version of the string"
   ]
  },
  {
   "cell_type": "code",
   "execution_count": 55,
   "id": "e95010e5-8743-4c5c-8fd4-2160c4799401",
   "metadata": {},
   "outputs": [
    {
     "data": {
      "text/plain": [
       "'Circumstances'"
      ]
     },
     "execution_count": 55,
     "metadata": {},
     "output_type": "execute_result"
    }
   ],
   "source": [
    "str.title()"
   ]
  },
  {
   "cell_type": "code",
   "execution_count": 56,
   "id": "1c079f55-f8f0-4a9e-b025-fd6502c9a5e1",
   "metadata": {},
   "outputs": [],
   "source": [
    "str=\"Rainbow\""
   ]
  },
  {
   "cell_type": "markdown",
   "id": "1c892858-23f5-40df-bb6a-4274452ec0f2",
   "metadata": {},
   "source": [
    "# str.translate()"
   ]
  },
  {
   "cell_type": "markdown",
   "id": "6d37a5a8-9617-4141-853d-15de3ed15f73",
   "metadata": {},
   "source": [
    "## Returns  a translated string"
   ]
  },
  {
   "cell_type": "code",
   "execution_count": 65,
   "id": "fc4b68ef-00af-434f-b469-32e2f8c3a1db",
   "metadata": {},
   "outputs": [
    {
     "name": "stdout",
     "output_type": "stream",
     "text": [
      "DE\n"
     ]
    }
   ],
   "source": [
    "table_translate=str.maketrans(\"\" ,\"\",\"ABC\")\n",
    "text=\"ABCDE\"\n",
    "result=text.translate(table_translate)\n",
    "print(result)"
   ]
  },
  {
   "cell_type": "markdown",
   "id": "96f124c0-4377-4136-8f06-7b414fc8c806",
   "metadata": {},
   "source": [
    "# str.upper()"
   ]
  },
  {
   "cell_type": "markdown",
   "id": "6bc46786-7516-4ab1-af70-2e92b2da75bc",
   "metadata": {},
   "source": [
    "## Converts all characters to uppercase"
   ]
  },
  {
   "cell_type": "code",
   "execution_count": 60,
   "id": "99299faf-21d2-4791-ae2b-add71cbc9dcb",
   "metadata": {},
   "outputs": [
    {
     "data": {
      "text/plain": [
       "'RAINBOW'"
      ]
     },
     "execution_count": 60,
     "metadata": {},
     "output_type": "execute_result"
    }
   ],
   "source": [
    "str.upper()"
   ]
  },
  {
   "cell_type": "markdown",
   "id": "b0c5c6fc-fe13-4fdf-a0a1-49d5d21dee34",
   "metadata": {},
   "source": [
    "# str.zfill(width)"
   ]
  },
  {
   "cell_type": "markdown",
   "id": "203a9295-f415-48f0-b0ce-fdb6b1cdf016",
   "metadata": {},
   "source": [
    "# Pads the string on the left with zeroes."
   ]
  },
  {
   "cell_type": "code",
   "execution_count": 66,
   "id": "ffd37a7a-8906-42e8-920b-473c15b661c8",
   "metadata": {},
   "outputs": [
    {
     "data": {
      "text/plain": [
       "'00000000000000000000000000000000000000Rainbow'"
      ]
     },
     "execution_count": 66,
     "metadata": {},
     "output_type": "execute_result"
    }
   ],
   "source": [
    "str.zfill(45)"
   ]
  }
 ],
 "metadata": {
  "kernelspec": {
   "display_name": "Python 3 (ipykernel)",
   "language": "python",
   "name": "python3"
  },
  "language_info": {
   "codemirror_mode": {
    "name": "ipython",
    "version": 3
   },
   "file_extension": ".py",
   "mimetype": "text/x-python",
   "name": "python",
   "nbconvert_exporter": "python",
   "pygments_lexer": "ipython3",
   "version": "3.13.5"
  }
 },
 "nbformat": 4,
 "nbformat_minor": 5
}
